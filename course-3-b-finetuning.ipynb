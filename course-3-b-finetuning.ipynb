{
 "cells": [
  {
   "cell_type": "code",
   "execution_count": null,
   "metadata": {},
   "outputs": [],
   "source": []
  }
 ],
 "metadata": {
  "kernelspec": {
   "display_name": "python-3.9.12",
   "language": "python",
   "name": "python3"
  },
  "language_info": {
   "name": "python",
   "version": "3.9.12"
  },
  "orig_nbformat": 4,
  "vscode": {
   "interpreter": {
    "hash": "1060cd3e306bdb917693ad15b950c3c971d6daea3be81f3e1761505107e734f6"
   }
  }
 },
 "nbformat": 4,
 "nbformat_minor": 2
}
